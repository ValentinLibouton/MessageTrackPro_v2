{
 "cells": [
  {
   "cell_type": "code",
   "id": "initial_id",
   "metadata": {
    "collapsed": true
   },
   "source": [
    "import polars as pl\n",
    "from emails_managment.email_processing import EmailProcessing\n",
    "from database_managment.email_database_old import *\n",
    "\n",
    "def paths_to_dict():\n",
    "    \"\"\"This is a temporary function for project development...\"\"\"\n",
    "    paths = {}\n",
    "    with open('paths.txt', 'r') as f:\n",
    "        for line in f:\n",
    "            line = line.strip()\n",
    "            if line:\n",
    "                k, v = line.split(' ',1)\n",
    "                paths[k] = v.strip()\n",
    "    return paths\n",
    "path = paths_to_dict()['emails_eml']\n",
    "ep = EmailProcessing(path=path, with_attachments=True)"
   ],
   "outputs": [],
   "execution_count": null
  },
  {
   "metadata": {},
   "cell_type": "code",
   "source": "df = ep.get_emails(limit=5000)",
   "id": "2f4bf095f3f82cab",
   "outputs": [],
   "execution_count": null
  },
  {
   "metadata": {},
   "cell_type": "code",
   "source": [
    "filtered_df = df.filter(pl.col('cc_emails').is_not_null())\n",
    "filtered_df"
   ],
   "id": "c6b58ace39ec45b5",
   "outputs": [],
   "execution_count": null
  },
  {
   "metadata": {},
   "cell_type": "code",
   "source": [
    "exploded_cc = df.explode(\"cc_emails\")\n",
    "filtered_cc = exploded_cc.filter(pl.col(\"cc_emails\").str.contains(','))\n",
    "filtered_cc"
   ],
   "id": "de64def550d7c7b5",
   "outputs": [],
   "execution_count": null
  },
  {
   "metadata": {},
   "cell_type": "code",
   "source": [
    "exploded_to = df.explode(\"to_emails\")\n",
    "filtered_to = exploded_to.filter(pl.col(\"to_emails\").str.contains(','))\n",
    "filtered_to"
   ],
   "id": "e6ba0fa7c7533079",
   "outputs": [],
   "execution_count": null
  },
  {
   "metadata": {},
   "cell_type": "code",
   "source": [
    "exploded_bcc = df.explode(\"bcc_emails\")\n",
    "filtered_bcc = exploded_bcc.filter(pl.col(\"bcc_emails\").str.contains(','))\n",
    "filtered_bcc"
   ],
   "id": "ec9153ccc91b7ac6",
   "outputs": [],
   "execution_count": null
  },
  {
   "metadata": {},
   "cell_type": "code",
   "source": "",
   "id": "d58f6812f9cf5a87",
   "outputs": [],
   "execution_count": null
  }
 ],
 "metadata": {
  "kernelspec": {
   "display_name": "Python 3",
   "language": "python",
   "name": "python3"
  },
  "language_info": {
   "codemirror_mode": {
    "name": "ipython",
    "version": 2
   },
   "file_extension": ".py",
   "mimetype": "text/x-python",
   "name": "python",
   "nbconvert_exporter": "python",
   "pygments_lexer": "ipython2",
   "version": "2.7.6"
  }
 },
 "nbformat": 4,
 "nbformat_minor": 5
}
