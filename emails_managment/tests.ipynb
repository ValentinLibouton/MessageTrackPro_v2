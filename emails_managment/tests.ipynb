{
 "cells": [
  {
   "cell_type": "code",
   "outputs": [],
   "source": [
    "from emails_managment import single_email_processing\n",
    "import pandas as pd"
   ],
   "metadata": {
    "collapsed": false,
    "ExecuteTime": {
     "end_time": "2024-03-01T11:08:17.518676790Z",
     "start_time": "2024-03-01T11:08:17.477343191Z"
    }
   },
   "id": "1be8ccc84150fd9",
   "execution_count": 19
  },
  {
   "cell_type": "code",
   "outputs": [],
   "source": [
    "file_path=None"
   ],
   "metadata": {
    "collapsed": false
   },
   "id": "dad94c19415ee5a6",
   "execution_count": null
  },
  {
   "cell_type": "code",
   "outputs": [],
   "source": [
    "data = single_email_processing.extract_email_data(file_path=file_path, with_attachments=True)"
   ],
   "metadata": {
    "collapsed": false
   },
   "id": "e5e16dbeb58edc1b",
   "execution_count": null
  },
  {
   "cell_type": "code",
   "outputs": [],
   "source": [
    "data"
   ],
   "metadata": {
    "collapsed": false
   },
   "id": "c1b70065f3d6128c",
   "execution_count": null
  },
  {
   "cell_type": "code",
   "outputs": [],
   "source": [
    "df = pd.DataFrame(data)\n",
    "df"
   ],
   "metadata": {
    "collapsed": false
   },
   "id": "2c54be8e71a31420",
   "execution_count": null
  },
  {
   "cell_type": "code",
   "outputs": [],
   "source": [
    "df['file_path_attachments']"
   ],
   "metadata": {
    "collapsed": false
   },
   "id": "9d952b07f9611d83",
   "execution_count": null
  }
 ],
 "metadata": {
  "kernelspec": {
   "display_name": "Python 3",
   "language": "python",
   "name": "python3"
  },
  "language_info": {
   "codemirror_mode": {
    "name": "ipython",
    "version": 2
   },
   "file_extension": ".py",
   "mimetype": "text/x-python",
   "name": "python",
   "nbconvert_exporter": "python",
   "pygments_lexer": "ipython2",
   "version": "2.7.6"
  }
 },
 "nbformat": 4,
 "nbformat_minor": 5
}
