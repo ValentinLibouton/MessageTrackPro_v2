{
 "cells": [
  {
   "cell_type": "code",
   "outputs": [],
   "source": [
    "from emails_managment import single_email_processing, multi_email_processing\n",
    "import pandas as pd"
   ],
   "metadata": {
    "collapsed": false
   },
   "id": "1be8ccc84150fd9",
   "execution_count": null
  },
  {
   "cell_type": "code",
   "outputs": [],
   "source": [
    "directory_path=\"\""
   ],
   "metadata": {
    "collapsed": false
   },
   "id": "dad94c19415ee5a6",
   "execution_count": null
  },
  {
   "cell_type": "code",
   "outputs": [],
   "source": [
    "dict_ = multi_email_processing.find_email_files(directory_path=directory_path, )"
   ],
   "metadata": {
    "collapsed": false
   },
   "id": "e5e16dbeb58edc1b",
   "execution_count": null
  },
  {
   "cell_type": "code",
   "outputs": [],
   "source": [
    "data_list = multi_email_processing.extract_email_data_from_emails_list(list_of_paths=dict_[\"eml\"], with_attachments=False)"
   ],
   "metadata": {
    "collapsed": false
   },
   "id": "c1b70065f3d6128c",
   "execution_count": null
  },
  {
   "cell_type": "markdown",
   "source": [
    "# View all emails"
   ],
   "metadata": {
    "collapsed": false
   },
   "id": "f38a62874fe7f70f"
  },
  {
   "cell_type": "code",
   "outputs": [],
   "source": [
    "df = pd.DataFrame(data_list)\n",
    "df"
   ],
   "metadata": {
    "collapsed": false
   },
   "id": "2c54be8e71a31420",
   "execution_count": null
  },
  {
   "cell_type": "markdown",
   "source": [
    "# View email with base64 decoding error"
   ],
   "metadata": {
    "collapsed": false
   },
   "id": "d76634d6a14b99e6"
  },
  {
   "cell_type": "code",
   "outputs": [],
   "source": [
    "base64_decoding_error_in_body = df[df[\"body\"] == \"Base64 decoding error\"]\n",
    "base64_decoding_error_in_body"
   ],
   "metadata": {
    "collapsed": false
   },
   "id": "9d952b07f9611d83",
   "execution_count": null
  },
  {
   "cell_type": "markdown",
   "source": [
    "# View emails without text "
   ],
   "metadata": {
    "collapsed": false
   },
   "id": "a6d721abf358b412"
  },
  {
   "cell_type": "code",
   "outputs": [],
   "source": [
    "no_text_content_found_in_body = df[df[\"body\"] == \"No text content found.\"]\n",
    "no_text_content_found_in_body"
   ],
   "metadata": {
    "collapsed": false
   },
   "id": "7ab4d56ce7870c4",
   "execution_count": null
  },
  {
   "cell_type": "markdown",
   "source": [
    "# View duplicate identifiers"
   ],
   "metadata": {
    "collapsed": false
   },
   "id": "a564ef59dbc50c7d"
  },
  {
   "cell_type": "code",
   "outputs": [],
   "source": [
    "id_duplicates = df[df.duplicated('id', keep=False)]\n",
    "id_duplicates"
   ],
   "metadata": {
    "collapsed": false
   },
   "id": "72b8f8f92add544f",
   "execution_count": null
  },
  {
   "cell_type": "code",
   "outputs": [],
   "source": [
    "data_list_2 = multi_email_processing.extract_email_data_from_mboxs_list(list_of_paths=dict_[\"mbox\"], with_attachments=False)"
   ],
   "metadata": {
    "collapsed": false
   },
   "id": "1a132f4e6f8b3392"
  }
 ],
 "metadata": {
  "kernelspec": {
   "display_name": "Python 3",
   "language": "python",
   "name": "python3"
  },
  "language_info": {
   "codemirror_mode": {
    "name": "ipython",
    "version": 2
   },
   "file_extension": ".py",
   "mimetype": "text/x-python",
   "name": "python",
   "nbconvert_exporter": "python",
   "pygments_lexer": "ipython2",
   "version": "2.7.6"
  }
 },
 "nbformat": 4,
 "nbformat_minor": 5
}
