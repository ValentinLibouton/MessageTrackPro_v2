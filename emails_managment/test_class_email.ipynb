{
 "cells": [
  {
   "cell_type": "code",
   "source": [
    "import polars as pl\n",
    "from email_processing import EmailProcessing\n",
    "def paths_to_dict():\n",
    "    \"\"\"This is a temporary function for project development...\"\"\"\n",
    "    paths = {}\n",
    "    with open('../paths.txt', 'r') as f:\n",
    "        for line in f:\n",
    "            line = line.strip()\n",
    "            if line:\n",
    "                k, v = line.split(' ',1)\n",
    "                paths[k] = v.strip()\n",
    "    return paths\n",
    "#path = paths_to_dict()['emails_eml']\n",
    "#path = paths_to_dict()['all_emails']\n",
    "#path = paths_to_dict()['ab_mbox']\n",
    "path = paths_to_dict()['emails_from_mbox']\n",
    "#path = paths_to_dict()['samples']\n",
    "ep = EmailProcessing(path=path, with_attachments=True)\n",
    "df = ep.get_emails(limit=10000)"
   ],
   "metadata": {
    "collapsed": true
   },
   "id": "initial_id",
   "outputs": [],
   "execution_count": null
  },
  {
   "metadata": {},
   "cell_type": "code",
   "source": [
    "not_contain_date_from_filename_0700 = df.filter(~pl.col('date').str.contains(pl.col('date_from_filename')), ~pl.col('date').str.contains(r'0000'))\n",
    "not_contain_date_from_filename_0000 = df.filter(~pl.col('date').str.contains(pl.col('date_from_filename')), pl.col('date').str.contains(r'0000'))\n",
    "not_contain_date_from_filename = df.filter(~pl.col('date_obj').str.contains(pl.col('date_from_filename')))\n",
    "len(not_contain_date_from_filename), len(not_contain_date_from_filename_0700), len(not_contain_date_from_filename_0000)"
   ],
   "id": "905839ec1a8cf048",
   "outputs": [],
   "execution_count": null
  },
  {
   "metadata": {},
   "cell_type": "markdown",
   "source": "Le DF ci-dessous doit être vide",
   "id": "fe3f2749be069f19"
  },
  {
   "metadata": {},
   "cell_type": "code",
   "source": "not_contain_date_from_filename",
   "id": "420b1f8b20f97eb2",
   "outputs": [],
   "execution_count": null
  },
  {
   "metadata": {},
   "cell_type": "code",
   "source": [
    "filterd_df_date = df.filter(pl.col('date').str.contains(pl.col('date_from_filename')), pl.col('date').str.contains(r'0000'))\n",
    "filterd_df_date"
   ],
   "id": "aee7d840fc0a1d70",
   "outputs": [],
   "execution_count": null
  },
  {
   "metadata": {},
   "cell_type": "code",
   "source": "df",
   "id": "94820ad9a8740c87",
   "outputs": [],
   "execution_count": null
  },
  {
   "metadata": {},
   "cell_type": "code",
   "source": "",
   "id": "7f842d1eade09732",
   "outputs": [],
   "execution_count": null
  }
 ],
 "metadata": {
  "kernelspec": {
   "display_name": "Python 3",
   "language": "python",
   "name": "python3"
  },
  "language_info": {
   "codemirror_mode": {
    "name": "ipython",
    "version": 2
   },
   "file_extension": ".py",
   "mimetype": "text/x-python",
   "name": "python",
   "nbconvert_exporter": "python",
   "pygments_lexer": "ipython2",
   "version": "2.7.6"
  }
 },
 "nbformat": 4,
 "nbformat_minor": 5
}
