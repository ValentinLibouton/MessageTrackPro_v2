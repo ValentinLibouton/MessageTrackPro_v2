{
 "cells": [
  {
   "cell_type": "code",
   "id": "initial_id",
   "metadata": {
    "collapsed": true
   },
   "source": [
    "from email_processing import EmailProcessing"
   ],
   "outputs": [],
   "execution_count": null
  },
  {
   "cell_type": "code",
   "outputs": [],
   "source": [
    "def paths_to_dict():\n",
    "    \"\"\"This is a temporary function for project development...\"\"\"\n",
    "    paths = {}\n",
    "    with open('../paths.txt', 'r') as f:\n",
    "        for line in f:\n",
    "            line = line.strip()\n",
    "            if line:\n",
    "                k, v = line.split(' ',1)\n",
    "                paths[k] = v.strip()\n",
    "    return paths"
   ],
   "metadata": {
    "collapsed": false
   },
   "id": "8ca266a022b67f53",
   "execution_count": null
  },
  {
   "cell_type": "code",
   "outputs": [],
   "source": [
    "path = paths_to_dict()['emails_eml']"
   ],
   "metadata": {
    "collapsed": false
   },
   "id": "2af8e386f979d6b4",
   "execution_count": null
  },
  {
   "metadata": {},
   "cell_type": "code",
   "source": [
    "ep = EmailProcessing(path=path, with_attachments=True)"
   ],
   "id": "5859560112d4d7a5",
   "outputs": [],
   "execution_count": null
  },
  {
   "metadata": {},
   "cell_type": "code",
   "source": [
    "ep.get_emails_filepaths"
   ],
   "id": "eef5eff033c4bdaf",
   "outputs": [],
   "execution_count": null
  },
  {
   "metadata": {},
   "cell_type": "code",
   "source": [
    "df = ep.get_emails(limit=5000)"
   ],
   "id": "552f0da9f5f3dd09",
   "outputs": [],
   "execution_count": null
  },
  {
   "cell_type": "code",
   "outputs": [],
   "source": [
    "df"
   ],
   "metadata": {
    "collapsed": false
   },
   "id": "f5b39af546b565b5",
   "execution_count": null
  },
  {
   "cell_type": "code",
   "outputs": [],
   "source": [
    "ep.log_execution_time"
   ],
   "metadata": {
    "collapsed": false
   },
   "id": "e7194eaebd92382c",
   "execution_count": null
  },
  {
   "cell_type": "code",
   "outputs": [],
   "source": [
    "df['cc', 'cc_splited']"
   ],
   "metadata": {
    "collapsed": false
   },
   "id": "9eef54cdad2d49d3",
   "execution_count": null
  },
  {
   "cell_type": "code",
   "outputs": [],
   "source": [],
   "metadata": {
    "collapsed": false
   },
   "id": "3726c7e77e572d1e"
  }
 ],
 "metadata": {
  "kernelspec": {
   "display_name": "Python 3",
   "language": "python",
   "name": "python3"
  },
  "language_info": {
   "codemirror_mode": {
    "name": "ipython",
    "version": 2
   },
   "file_extension": ".py",
   "mimetype": "text/x-python",
   "name": "python",
   "nbconvert_exporter": "python",
   "pygments_lexer": "ipython2",
   "version": "2.7.6"
  }
 },
 "nbformat": 4,
 "nbformat_minor": 5
}
