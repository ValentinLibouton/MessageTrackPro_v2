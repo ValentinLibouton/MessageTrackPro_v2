{
 "cells": [
  {
   "cell_type": "code",
   "outputs": [],
   "source": [
    "import polars as pl\n",
    "from email_processing import EmailProcessing\n",
    "def paths_to_dict():\n",
    "    \"\"\"This is a temporary function for project development...\"\"\"\n",
    "    paths = {}\n",
    "    with open('../paths.txt', 'r') as f:\n",
    "        for line in f:\n",
    "            line = line.strip()\n",
    "            if line:\n",
    "                k, v = line.split(' ',1)\n",
    "                paths[k] = v.strip()\n",
    "    return paths\n",
    "path = paths_to_dict()['emails_eml']"
   ],
   "metadata": {
    "collapsed": true
   },
   "id": "initial_id",
   "execution_count": null
  },
  {
   "cell_type": "code",
   "outputs": [],
   "source": [
    "ep = EmailProcessing(path=path, with_attachments=True)"
   ],
   "metadata": {},
   "id": "5859560112d4d7a5",
   "execution_count": null
  },
  {
   "cell_type": "code",
   "outputs": [],
   "source": [
    "ep.get_emails_filepaths"
   ],
   "metadata": {},
   "id": "eef5eff033c4bdaf",
   "execution_count": null
  },
  {
   "cell_type": "code",
   "outputs": [],
   "source": [
    "df = ep.get_emails(limit=5000)\n",
    "df"
   ],
   "metadata": {},
   "id": "552f0da9f5f3dd09",
   "execution_count": null
  },
  {
   "cell_type": "code",
   "outputs": [],
   "source": [
    "ep.log_execution_time"
   ],
   "metadata": {
    "collapsed": false
   },
   "id": "e7194eaebd92382c",
   "execution_count": null
  },
  {
   "cell_type": "code",
   "outputs": [],
   "source": [
    "filtered_date_0200 = df.filter(pl.col('date').str.contains(r'\\+0200'))\n",
    "filtered_date_0200"
   ],
   "metadata": {
    "collapsed": false
   },
   "id": "9eef54cdad2d49d3",
   "execution_count": null
  },
  {
   "cell_type": "code",
   "outputs": [],
   "source": [
    "filtered_date_0100 = df.filter(pl.col('date').str.contains(r'\\+0100'))\n",
    "filtered_date_0100"
   ],
   "metadata": {
    "collapsed": false
   },
   "id": "bf7b3fcbcc899ce1",
   "execution_count": null
  },
  {
   "cell_type": "code",
   "outputs": [],
   "source": [
    "filtered_date_0000 = df.filter(pl.col('date').str.contains(r'\\+0000'))\n",
    "filtered_date_0000"
   ],
   "metadata": {
    "collapsed": false
   },
   "id": "a4224ebbd40570a2",
   "execution_count": null
  },
  {
   "cell_type": "code",
   "outputs": [],
   "source": [],
   "metadata": {
    "collapsed": false
   },
   "id": "bdc85cceb0f848b7",
   "execution_count": null
  },
  {
   "cell_type": "code",
   "outputs": [],
   "source": [],
   "metadata": {
    "collapsed": false
   },
   "id": "f9798a29aa5877e3",
   "execution_count": null
  },
  {
   "cell_type": "code",
   "outputs": [],
   "source": [],
   "metadata": {
    "collapsed": false
   },
   "id": "e1ed7c972f30e48d"
  }
 ],
 "metadata": {
  "kernelspec": {
   "display_name": "Python 3",
   "language": "python",
   "name": "python3"
  },
  "language_info": {
   "codemirror_mode": {
    "name": "ipython",
    "version": 2
   },
   "file_extension": ".py",
   "mimetype": "text/x-python",
   "name": "python",
   "nbconvert_exporter": "python",
   "pygments_lexer": "ipython2",
   "version": "2.7.6"
  }
 },
 "nbformat": 4,
 "nbformat_minor": 5
}
